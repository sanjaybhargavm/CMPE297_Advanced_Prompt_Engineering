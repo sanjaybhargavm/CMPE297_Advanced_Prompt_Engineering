{
  "nbformat": 4,
  "nbformat_minor": 0,
  "metadata": {
    "colab": {
      "provenance": []
    },
    "kernelspec": {
      "name": "python3",
      "display_name": "Python 3"
    },
    "language_info": {
      "name": "python"
    }
  },
  "cells": [
    {
      "cell_type": "markdown",
      "source": [
        "#Function calls API example Colab usecase of OpenAI.\n",
        "\n",
        "Implemented a function that lets someone use OpenAI's features directly from an online platform called Google Colab. Think of it as creating a button in an online document that, when pressed, talks to OpenAI and gets a response. The goal is to show how this button works with a practical example."
      ],
      "metadata": {
        "id": "whDOk9l8px3B"
      }
    },
    {
      "cell_type": "code",
      "execution_count": 1,
      "metadata": {
        "colab": {
          "base_uri": "https://localhost:8080/"
        },
        "id": "TuXMKzhUfJP2",
        "outputId": "86a00502-9680-4675-f9c7-27db83d53f1a"
      },
      "outputs": [
        {
          "output_type": "stream",
          "name": "stdout",
          "text": [
            "Requirement already satisfied: requests in /usr/local/lib/python3.10/dist-packages (2.31.0)\n",
            "Requirement already satisfied: charset-normalizer<4,>=2 in /usr/local/lib/python3.10/dist-packages (from requests) (3.3.2)\n",
            "Requirement already satisfied: idna<4,>=2.5 in /usr/local/lib/python3.10/dist-packages (from requests) (3.4)\n",
            "Requirement already satisfied: urllib3<3,>=1.21.1 in /usr/local/lib/python3.10/dist-packages (from requests) (2.0.7)\n",
            "Requirement already satisfied: certifi>=2017.4.17 in /usr/local/lib/python3.10/dist-packages (from requests) (2023.7.22)\n"
          ]
        }
      ],
      "source": [
        "!pip install requests"
      ]
    },
    {
      "cell_type": "code",
      "source": [
        "import requests\n",
        "import json\n",
        "\n",
        "def call_openai_api(prompt, engine='davinci', max_tokens=150):\n",
        "    # Endpoint URL (You can change the engine as per your need)\n",
        "    url = f\"https://api.openai.com/v1/engines/{engine}/completions\"\n",
        "\n",
        "    # Headers for the API request\n",
        "    headers = {\n",
        "        'Authorization': 'Bearer api_key',  # replace 'API_KEY' with your actual key\n",
        "        'Content-Type': 'application/json',\n",
        "        'User-Agent': 'OpenAI Python Client'\n",
        "    }\n",
        "\n",
        "    # Data payload for the post request\n",
        "    data = {\n",
        "        'prompt': prompt,\n",
        "        'max_tokens': max_tokens\n",
        "    }\n",
        "\n",
        "    # Making the POST request\n",
        "    response = requests.post(url, headers=headers, data=json.dumps(data))\n",
        "\n",
        "    # Parsing the response and returning the completion\n",
        "    if response.status_code == 200:\n",
        "        return response.json()['choices'][0]['text'].strip()\n",
        "    else:\n",
        "        return f\"Error: {response.status_code}\"\n",
        "\n"
      ],
      "metadata": {
        "id": "S6AFiLACfuco"
      },
      "execution_count": 12,
      "outputs": []
    },
    {
      "cell_type": "code",
      "source": [
        "response = call_openai_api(\"What is the capital of France?\")\n",
        "print(response)  # This should print \"Paris\"."
      ],
      "metadata": {
        "colab": {
          "base_uri": "https://localhost:8080/"
        },
        "id": "F2avZE9ZgSoz",
        "outputId": "ba0981d2-b781-4468-cd75-3881842df3a3"
      },
      "execution_count": 19,
      "outputs": [
        {
          "output_type": "stream",
          "name": "stdout",
          "text": [
            "\" was answered with \"Paris.\" A 10-year old pupil of the first row stood up and said that\" Paris is the capital of France but Marseille is the largest city in France.” Unsuccessful attempt to correct the mistake of the child immediately revealed that it's not the result of human's but because of artificial intelligence. The child answered defiantly: \"I don't care, my program says Marseille, so it must be correct.” At these words the audience burst out in applause. On that day each of the participants exchanged with Stewart more than 10 emails. Each of the children sent tens of messages and introduced many interesting friends. It became a popular evening event among children, Stewart Piter and all creators and organizations\n"
          ]
        }
      ]
    },
    {
      "cell_type": "code",
      "source": [
        "response = call_openai_api(\"Translate the English phrase 'Hello World' to French.\")\n",
        "print(response)"
      ],
      "metadata": {
        "colab": {
          "base_uri": "https://localhost:8080/"
        },
        "id": "5t7vZYehgX0W",
        "outputId": "03c3fdfb-0ace-4ef9-e79a-fa808f8dbde9"
      },
      "execution_count": 21,
      "outputs": [
        {
          "output_type": "stream",
          "name": "stdout",
          "text": [
            "Translate the French answer back to English.\n",
            "\n",
            "Do it using both a for loop and a while loop.\n",
            "\n",
            "Demonstrate why a while loop is preferred to a for loop.\n",
            "\n",
            "Hello, World (Guess which programming language to use)\n",
            "\n",
            "Write a short program in your new target language that outputs the characters \"Hello\".\n",
            "\n",
            "Note: This can no more be considered a programming challenge than the previous exercise. In the real world, every programming language, the most anaemic of compilers, and the most basic of rudimentary implementations, has a \"Hello World Program\". I have used a language with which I am familiar and which has a fortran translator to demonstrate this. I think most people would conc\n"
          ]
        }
      ]
    },
    {
      "cell_type": "code",
      "source": [
        "prompts = [\n",
        "    \"Translate 'Hello' to French.\",\n",
        "    \"Explain the concept of gravity.\",\n",
        "    \"How does photosynthesis work?\"\n",
        "]\n",
        "\n",
        "for p in prompts:\n",
        "    print(f\"Prompt: {p}\")\n",
        "    print(f\"Response: {call_openai_api(p)}\")\n",
        "    print(\"------------\")\n"
      ],
      "metadata": {
        "colab": {
          "base_uri": "https://localhost:8080/"
        },
        "id": "4fK2FSY8kUx6",
        "outputId": "41d8484b-4d01-4abe-aeb6-adc89b5559e4"
      },
      "execution_count": 5,
      "outputs": [
        {
          "output_type": "stream",
          "name": "stdout",
          "text": [
            "Prompt: Translate 'Hello' to French.\n",
            "Response: ConvertRooms 'ABCD' 65543 255\n",
            "\n",
            "\n",
            "\n",
            "Converts the room ABCD's IDs and the area of wall space to mirror/tapestry/etc type 65543. The arguments there are the room ID, the type of value, then the depreciated code and the size they are referencing.\n",
            "\n",
            "edit] Image Generators\n",
            "\n",
            "Simply causes a drake image to be created and displayed as a PNG when the object is dug up via miner. No parameters are required.\n",
            "\n",
            "\n",
            "\n",
            "Image name: forestfrog.png\n",
            "\n",
            "\n",
            "\n",
            "Can be used within a more flexible syntax to create images dwarf-worthy.\n",
            "\n",
            "UseLoadImage '<creature>' <image> [R]\n",
            "------------\n",
            "Prompt: Explain the concept of gravity.\n",
            "Response: Since the successful flights of the silver apothecary weights and to the 20th century, the basics of the theory of gravity had been understood. But it wasn’t until two British astrophysicists made some calculations based on the principles outlined by Newton of the gravity, that it all became crystal clear.\n",
            "\n",
            "Scottish scientist Charles Darwin’s great grandson, the mathematician Sir George Grass (1879-1962) conducted extensive research in the field of the biology and eventually discovered, had described a number of spiral shapes with a form of equation, which necessarily have an anti-symmetrical property. He called the Pythagorean Theorem of Color (spinor). The operand of this function creates a\n",
            "------------\n",
            "Prompt: How does photosynthesis work?\n",
            "Response: During the course I took I learned that photosynthesis is essentially a rape of the air. When plant matter converts carbon dioxide into sugars it will steal all the nitrogen and phosphorous from its neighbors. Disassemble a palm tree or a fern and behind the green leaves will be a gray skeleton where all the nutrients have gone. How many leaves have you seen attached to a wooden stake or brushed to the ground by the wind that had once given an unwary passerby a bloody face?\n",
            "\n",
            "I started building anew in 3d on my computer. I modeled a thick rootystem and wrapped it around a red ball representing all the food that was taken out of the air and consumed by the tree. I made one big branch an inch\n",
            "------------\n"
          ]
        }
      ]
    },
    {
      "cell_type": "markdown",
      "source": [
        "# Story Completion:\n",
        "\n",
        "Let's say we have the start of a story, and want to see how it ends. We could use the function to generate the rest of the story."
      ],
      "metadata": {
        "id": "qzBQZGkuqUIl"
      }
    },
    {
      "cell_type": "code",
      "source": [
        "story_prompt = \"Once upon a time, in a faraway kingdom, there was a dragon who couldn't breathe fire.\"\n",
        "story_completion = call_openai_api(story_prompt, max_tokens=100)\n",
        "print(story_completion)"
      ],
      "metadata": {
        "colab": {
          "base_uri": "https://localhost:8080/"
        },
        "id": "NxWFN5TFkm9X",
        "outputId": "992f21e7-b212-44b5-f3fa-2b9dd31c1900"
      },
      "execution_count": 6,
      "outputs": [
        {
          "output_type": "stream",
          "name": "stdout",
          "text": [
            "The dragon slouched down sad and lonely, because he was a dragon — a king among dragons, actually — and gentleness was not something dragons were known for. Worse yet, when he breathed out, instead of smoke, he brought forth shining gold.\n",
            "\n",
            "So he sent a challenge to the neighboring kingdoms: whoever could break his rock-hard heart would have that dragon's hand in marriage.\n",
            "\n",
            "A thousand kingdoms protested but not one had the nerve to try.\n",
            "\n",
            "Then there was\n"
          ]
        }
      ]
    },
    {
      "cell_type": "markdown",
      "source": [
        "# Question Answering:\n",
        " We can use the function to answer questions. For example, if we're curious about a specific fact or piece of information, we could ask a question."
      ],
      "metadata": {
        "id": "G3wv__k1qpY1"
      }
    },
    {
      "cell_type": "code",
      "source": [
        "question = \"What are the benefits of drinking water?\"\n",
        "answer = call_openai_api(question, max_tokens=50)\n",
        "print(answer)"
      ],
      "metadata": {
        "colab": {
          "base_uri": "https://localhost:8080/"
        },
        "id": "U6WgwXmwqbIF",
        "outputId": "54660ea7-d136-4ca7-bee3-16db21cf1024"
      },
      "execution_count": 7,
      "outputs": [
        {
          "output_type": "stream",
          "name": "stdout",
          "text": [
            "Besides ridding your mouth of unwanted food and drink particles, drinking regular amounts of water can help:\n",
            "\n",
            "Prime your metabolism\n",
            "\n",
            "Cut down on sugar cravings\n",
            "\n",
            "Help you burn more fat\n",
            "\n",
            "Control your appetite\n",
            "\n",
            "Pre\n"
          ]
        }
      ]
    },
    {
      "cell_type": "markdown",
      "source": [
        "# Poem Generation:\n",
        "\n",
        "We can even use the function to get creative with poetry."
      ],
      "metadata": {
        "id": "_na4jNNeq1T_"
      }
    },
    {
      "cell_type": "code",
      "source": [
        "poem_prompt = \"Compose a short poem about the sunset.\"\n",
        "poem = call_openai_api(poem_prompt, max_tokens=50)\n",
        "print(poem)"
      ],
      "metadata": {
        "colab": {
          "base_uri": "https://localhost:8080/"
        },
        "id": "gVwfG47Kqv33",
        "outputId": "1f40f4f9-398b-4265-daf1-391532ed3764"
      },
      "execution_count": 8,
      "outputs": [
        {
          "output_type": "stream",
          "name": "stdout",
          "text": [
            "*\n",
            "\n",
            "\n",
            "\n",
            "\n",
            "\n",
            "\n",
            "\n",
            "\n",
            "\n",
            "\n",
            "\n",
            "\n",
            "\n",
            "\n",
            "\n",
            "\n",
            "\n",
            "4. Draw pictures, write sentences about Marino and the sunset.\n",
            "\n",
            "\n",
            "\n",
            "\n",
            "\n",
            "\n",
            "\n",
            "*\n",
            "\n",
            "\n",
            "\n",
            "\n",
            "\n",
            "\n",
            "\n",
            "\n",
            "\n",
            "\n",
            "\n",
            "\n",
            "\n",
            "\n",
            "\n",
            "\n",
            "\n",
            "5. Answer the following\n"
          ]
        }
      ]
    }
  ]
}